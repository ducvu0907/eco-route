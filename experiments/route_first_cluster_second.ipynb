{
 "cells": [
  {
   "cell_type": "code",
   "execution_count": 11,
   "id": "b8bce475-8858-4449-b41c-984112718a52",
   "metadata": {},
   "outputs": [],
   "source": [
    "import random\n",
    "import math\n",
    "import matplotlib.pyplot as plt\n",
    "import heapq"
   ]
  },
  {
   "cell_type": "code",
   "execution_count": 2,
   "id": "04d2b020-6ad2-4bbf-b9b7-91049460931e",
   "metadata": {},
   "outputs": [],
   "source": [
    "def generate_cvrp_data(num_customers=20, vehicle_capacity=100, max_demand=30, map_size=100):\n",
    "    depot = {'id': 0, 'x': map_size / 2, 'y': map_size / 2, 'demand': 0}\n",
    "    customers = []\n",
    "\n",
    "    for i in range(1, num_customers + 1):\n",
    "        x = random.uniform(0, map_size)\n",
    "        y = random.uniform(0, map_size)\n",
    "        demand = random.randint(1, max_demand)\n",
    "        customers.append({'id': i, 'x': x, 'y': y, 'demand': demand})\n",
    "\n",
    "    return depot, customers, vehicle_capacity"
   ]
  },
  {
   "cell_type": "code",
   "execution_count": 3,
   "id": "d71fe0c6-7b87-4189-a6d5-0045d6430b43",
   "metadata": {},
   "outputs": [],
   "source": [
    "depot, customers, vehicle_capacity = generate_cvrp_data()"
   ]
  },
  {
   "cell_type": "code",
   "execution_count": 15,
   "id": "389bf99f-265f-4895-bceb-f48077ecc54a",
   "metadata": {},
   "outputs": [],
   "source": [
    "def compute_distance(node1, node2):\n",
    "    dx = node1[\"x\"] - node2[\"x\"]\n",
    "    dy = node1[\"y\"] - node2[\"y\"]\n",
    "    return math.sqrt(dx**2 + dy**2)"
   ]
  },
  {
   "cell_type": "code",
   "execution_count": 19,
   "id": "121cf92b-6f9c-432b-b6cf-b04fa012c689",
   "metadata": {},
   "outputs": [
    {
     "data": {
      "text/plain": [
       "[(8.51921626145096,\n",
       "  {'id': 11, 'x': 46.739121234526, 'y': 42.12956701405499, 'demand': 19}),\n",
       " (11.389459603481605,\n",
       "  {'id': 9, 'x': 38.68040132533381, 'y': 48.740446148894456, 'demand': 12}),\n",
       " (23.723242983343685,\n",
       "  {'id': 6, 'x': 73.60678485274926, 'y': 52.34775777344548, 'demand': 3}),\n",
       " (14.768994424016146,\n",
       "  {'id': 16, 'x': 64.7086665990362, 'y': 51.33353784161405, 'demand': 21}),\n",
       " (17.629911783559237,\n",
       "  {'id': 2, 'x': 32.84047230862709, 'y': 45.95470657367265, 'demand': 27}),\n",
       " (32.47053128243564,\n",
       "  {'id': 3, 'x': 41.776504546722116, 'y': 18.588067167180732, 'demand': 22}),\n",
       " (39.66240343503288,\n",
       "  {'id': 14, 'x': 78.56791770252308, 'y': 77.51327542087958, 'demand': 29}),\n",
       " (24.933730480438452,\n",
       "  {'id': 17, 'x': 45.618996721738455, 'y': 74.54582909471601, 'demand': 16}),\n",
       " (35.196261039903206,\n",
       "  {'id': 4, 'x': 15.826096590792238, 'y': 58.42146762548824, 'demand': 17}),\n",
       " (30.125336044859754,\n",
       "  {'id': 10, 'x': 69.19030956799917, 'y': 73.22214224614271, 'demand': 24}),\n",
       " (46.59796117264473,\n",
       "  {'id': 5, 'x': 71.96354908831333, 'y': 91.09711056622541, 'demand': 29}),\n",
       " (36.371917614063655,\n",
       "  {'id': 12, 'x': 68.9827483775554, 'y': 81.02533891770808, 'demand': 9}),\n",
       " (46.60717252669311,\n",
       "  {'id': 13, 'x': 13.5926272708908, 'y': 79.09865532798128, 'demand': 6}),\n",
       " (56.852007605022344,\n",
       "  {'id': 7, 'x': 2.3222680308553567, 'y': 19.032522818286914, 'demand': 18}),\n",
       " (47.683604069446055,\n",
       "  {'id': 15, 'x': 52.12862861039875, 'y': 97.63606865906006, 'demand': 20}),\n",
       " (46.266255826105066,\n",
       "  {'id': 8, 'x': 84.76807720258587, 'y': 19.47546501907639, 'demand': 27}),\n",
       " (39.89637996525749,\n",
       "  {'id': 1, 'x': 14.210063231531322, 'y': 32.370435046740006, 'demand': 18}),\n",
       " (49.85009886948675,\n",
       "  {'id': 18, 'x': 59.541936252764685, 'y': 98.9283538436128, 'demand': 23}),\n",
       " (51.81793672630121,\n",
       "  {'id': 19, 'x': 96.81527570934958, 'y': 27.786748846048237, 'demand': 4}),\n",
       " (47.36086352667956,\n",
       "  {'id': 20, 'x': 83.25877695160789, 'y': 16.28197589306334, 'demand': 14})]"
      ]
     },
     "execution_count": 19,
     "metadata": {},
     "output_type": "execute_result"
    }
   ],
   "source": [
    "pq = [(compute_distance(customer, depot), customer) for customer in customers]\n",
    "heapq.heapify(pq)\n",
    "pq"
   ]
  },
  {
   "cell_type": "code",
   "execution_count": 28,
   "id": "390dbc37-a80a-4f33-b8c2-cf9f45b7bf75",
   "metadata": {},
   "outputs": [],
   "source": [
    "def find_unvisited_nn(node, visited):\n",
    "    res = (None, float(\"inf\"))\n",
    "    for customer in customers:\n",
    "        if customer[\"id\"] not in visited:\n",
    "            dist = compute_distance(customer, node)\n",
    "            if dist < res[1]:\n",
    "                res = (customer, dist)\n",
    "    return res[0]"
   ]
  },
  {
   "cell_type": "code",
   "execution_count": 31,
   "id": "71d8e4ec-5828-4fed-95ba-b0a87feabbd7",
   "metadata": {},
   "outputs": [],
   "source": [
    "def build_giant_tour(depot, customers): # nearest neighbour\n",
    "    total_len = len(customers)\n",
    "    visited = set([depot[\"id\"]])\n",
    "    tour = [depot]\n",
    "    while len(tour) < len(customers):\n",
    "        current_node = tour[-1]\n",
    "        next_node = find_unvisited_nn(current_node, visited)\n",
    "        visited.add(next_node[\"id\"])\n",
    "        tour.append(next_node)\n",
    "    return tour"
   ]
  },
  {
   "cell_type": "code",
   "execution_count": 32,
   "id": "116f2724-9622-4907-a45e-27cf2a775961",
   "metadata": {},
   "outputs": [
    {
     "data": {
      "text/plain": [
       "[{'id': 0, 'x': 50.0, 'y': 50.0, 'demand': 0},\n",
       " {'id': 11, 'x': 46.739121234526, 'y': 42.12956701405499, 'demand': 19},\n",
       " {'id': 9, 'x': 38.68040132533381, 'y': 48.740446148894456, 'demand': 12},\n",
       " {'id': 2, 'x': 32.84047230862709, 'y': 45.95470657367265, 'demand': 27},\n",
       " {'id': 4, 'x': 15.826096590792238, 'y': 58.42146762548824, 'demand': 17},\n",
       " {'id': 13, 'x': 13.5926272708908, 'y': 79.09865532798128, 'demand': 6},\n",
       " {'id': 17, 'x': 45.618996721738455, 'y': 74.54582909471601, 'demand': 16},\n",
       " {'id': 10, 'x': 69.19030956799917, 'y': 73.22214224614271, 'demand': 24},\n",
       " {'id': 12, 'x': 68.9827483775554, 'y': 81.02533891770808, 'demand': 9},\n",
       " {'id': 14, 'x': 78.56791770252308, 'y': 77.51327542087958, 'demand': 29},\n",
       " {'id': 5, 'x': 71.96354908831333, 'y': 91.09711056622541, 'demand': 29},\n",
       " {'id': 18, 'x': 59.541936252764685, 'y': 98.9283538436128, 'demand': 23},\n",
       " {'id': 15, 'x': 52.12862861039875, 'y': 97.63606865906006, 'demand': 20},\n",
       " {'id': 16, 'x': 64.7086665990362, 'y': 51.33353784161405, 'demand': 21},\n",
       " {'id': 6, 'x': 73.60678485274926, 'y': 52.34775777344548, 'demand': 3},\n",
       " {'id': 19, 'x': 96.81527570934958, 'y': 27.786748846048237, 'demand': 4},\n",
       " {'id': 8, 'x': 84.76807720258587, 'y': 19.47546501907639, 'demand': 27},\n",
       " {'id': 20, 'x': 83.25877695160789, 'y': 16.28197589306334, 'demand': 14},\n",
       " {'id': 3, 'x': 41.776504546722116, 'y': 18.588067167180732, 'demand': 22},\n",
       " {'id': 1, 'x': 14.210063231531322, 'y': 32.370435046740006, 'demand': 18}]"
      ]
     },
     "execution_count": 32,
     "metadata": {},
     "output_type": "execute_result"
    }
   ],
   "source": [
    "giant_tour = build_giant_tour(depot, customers)\n",
    "giant_tour"
   ]
  },
  {
   "cell_type": "code",
   "execution_count": 36,
   "id": "8eba0272-29db-43a2-9471-6c66715bc37d",
   "metadata": {},
   "outputs": [],
   "source": [
    "def split(giant_tour, vehicle_capacity):\n",
    "    route = []\n",
    "    load = 0\n",
    "    routes = []\n",
    "    i = 1\n",
    "    while i < len(giant_tour):\n",
    "        if load + giant_tour[i][\"demand\"] > vehicle_capacity:\n",
    "            routes.append(route)\n",
    "            load = 0\n",
    "            route = []\n",
    "        load += giant_tour[i][\"demand\"]\n",
    "        route.append(giant_tour[i])\n",
    "        i += 1\n",
    "    # append the last route to the list\n",
    "    if route:\n",
    "        routes.append(route)\n",
    "        \n",
    "    return routes"
   ]
  },
  {
   "cell_type": "code",
   "execution_count": 39,
   "id": "e85e9f68-cb04-404d-9a61-b26e0882aa63",
   "metadata": {},
   "outputs": [
    {
     "data": {
      "text/plain": [
       "[[{'id': 11, 'x': 46.739121234526, 'y': 42.12956701405499, 'demand': 19},\n",
       "  {'id': 9, 'x': 38.68040132533381, 'y': 48.740446148894456, 'demand': 12},\n",
       "  {'id': 2, 'x': 32.84047230862709, 'y': 45.95470657367265, 'demand': 27},\n",
       "  {'id': 4, 'x': 15.826096590792238, 'y': 58.42146762548824, 'demand': 17},\n",
       "  {'id': 13, 'x': 13.5926272708908, 'y': 79.09865532798128, 'demand': 6},\n",
       "  {'id': 17, 'x': 45.618996721738455, 'y': 74.54582909471601, 'demand': 16}],\n",
       " [{'id': 10, 'x': 69.19030956799917, 'y': 73.22214224614271, 'demand': 24},\n",
       "  {'id': 12, 'x': 68.9827483775554, 'y': 81.02533891770808, 'demand': 9},\n",
       "  {'id': 14, 'x': 78.56791770252308, 'y': 77.51327542087958, 'demand': 29},\n",
       "  {'id': 5, 'x': 71.96354908831333, 'y': 91.09711056622541, 'demand': 29}],\n",
       " [{'id': 18, 'x': 59.541936252764685, 'y': 98.9283538436128, 'demand': 23},\n",
       "  {'id': 15, 'x': 52.12862861039875, 'y': 97.63606865906006, 'demand': 20},\n",
       "  {'id': 16, 'x': 64.7086665990362, 'y': 51.33353784161405, 'demand': 21},\n",
       "  {'id': 6, 'x': 73.60678485274926, 'y': 52.34775777344548, 'demand': 3},\n",
       "  {'id': 19, 'x': 96.81527570934958, 'y': 27.786748846048237, 'demand': 4},\n",
       "  {'id': 8, 'x': 84.76807720258587, 'y': 19.47546501907639, 'demand': 27}],\n",
       " [{'id': 20, 'x': 83.25877695160789, 'y': 16.28197589306334, 'demand': 14},\n",
       "  {'id': 3, 'x': 41.776504546722116, 'y': 18.588067167180732, 'demand': 22},\n",
       "  {'id': 1, 'x': 14.210063231531322, 'y': 32.370435046740006, 'demand': 18}]]"
      ]
     },
     "execution_count": 39,
     "metadata": {},
     "output_type": "execute_result"
    }
   ],
   "source": [
    "routes = split(giant_tour, vehicle_capacity)\n",
    "routes"
   ]
  },
  {
   "cell_type": "code",
   "execution_count": 40,
   "id": "9c6b0567-b5b9-4666-8256-e987b2606638",
   "metadata": {},
   "outputs": [
    {
     "name": "stdout",
     "output_type": "stream",
     "text": [
      "[11, 9, 2, 4, 13, 17]\n",
      "[10, 12, 14, 5]\n",
      "[18, 15, 16, 6, 19, 8]\n",
      "[20, 3, 1]\n"
     ]
    }
   ],
   "source": [
    "for route in routes:\n",
    "    print([node[\"id\"] for node in route])"
   ]
  }
 ],
 "metadata": {
  "kernelspec": {
   "display_name": "Python 3 (ipykernel)",
   "language": "python",
   "name": "python3"
  },
  "language_info": {
   "codemirror_mode": {
    "name": "ipython",
    "version": 3
   },
   "file_extension": ".py",
   "mimetype": "text/x-python",
   "name": "python",
   "nbconvert_exporter": "python",
   "pygments_lexer": "ipython3",
   "version": "3.10.4"
  }
 },
 "nbformat": 4,
 "nbformat_minor": 5
}
